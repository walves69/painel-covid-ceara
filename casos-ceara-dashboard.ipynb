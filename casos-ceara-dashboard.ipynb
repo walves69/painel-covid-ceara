{
 "cells": [
  {
   "cell_type": "markdown",
   "id": "c24cb075",
   "metadata": {},
   "source": [
    "# Casos de COVID em Quixadá-CE"
   ]
  },
  {
   "cell_type": "markdown",
   "id": "0a39a51a",
   "metadata": {},
   "source": [
    "Analisando os dados de COVID-19 na cidade de Quixadá-CE."
   ]
  },
  {
   "cell_type": "code",
   "execution_count": 3,
   "id": "f0246a72",
   "metadata": {},
   "outputs": [],
   "source": [
    "# Imports\n",
    "import pandas as pd\n",
    "import numpy as np\n",
    "import matplotlib.pyplot as plt\n",
    "import dateutil.parser"
   ]
  },
  {
   "cell_type": "code",
   "execution_count": 5,
   "id": "9b7b1192",
   "metadata": {},
   "outputs": [],
   "source": [
    "# Modificar para que essa parte seja rodada apenas localmente\n",
    "\n",
    "df = pd.read_csv('caso.csv')\n",
    "# df.dtypes\n",
    "# df.info()\n",
    "# df.head()\n",
    "\n",
    "# Filtrar os dados do Ceará e depois salvar como csv.\n",
    "# Se faz necessário pois o arquivo completo é muito grande para enviar para o github\n",
    "casos_ce = df[df.state == 'CE']\n",
    "casos_ce.to_csv('casos_ce.csv', index=False)\n",
    "\n",
    "# Liberando o dataframe original\n",
    "del df"
   ]
  },
  {
   "cell_type": "code",
   "execution_count": 6,
   "id": "026b318c",
   "metadata": {},
   "outputs": [],
   "source": [
    "# Carregando os dados do Ceará no novo dataframe\n",
    "casos_ce = pd.read_csv('casos_ce.csv')"
   ]
  },
  {
   "cell_type": "code",
   "execution_count": 7,
   "id": "f0a7ad3b",
   "metadata": {},
   "outputs": [],
   "source": [
    "# Fazendo cast da coluna date para data\n",
    "casos_ce['date'] = pd.to_datetime(casos_ce['date'])"
   ]
  },
  {
   "cell_type": "code",
   "execution_count": 8,
   "id": "8b4be6f5",
   "metadata": {},
   "outputs": [],
   "source": [
    "# Olhando o dataframe\n",
    "# casos_ce.info()"
   ]
  },
  {
   "cell_type": "code",
   "execution_count": 9,
   "id": "bbda3fa4",
   "metadata": {},
   "outputs": [],
   "source": [
    "# Olhando o conteúdo do dataframe\n",
    "# casos_ce.head()"
   ]
  },
  {
   "cell_type": "code",
   "execution_count": 10,
   "id": "db4403a7",
   "metadata": {},
   "outputs": [],
   "source": [
    "# Olhando as cidades não nulas\n",
    "# casos_ce[df_ce.city.notna()].head()"
   ]
  },
  {
   "cell_type": "code",
   "execution_count": 11,
   "id": "97f4d159",
   "metadata": {},
   "outputs": [],
   "source": [
    "# Quantidade de cidades únicas\n",
    "# casos_ce.city.nunique()"
   ]
  },
  {
   "cell_type": "code",
   "execution_count": 12,
   "id": "33317482",
   "metadata": {
    "scrolled": true
   },
   "outputs": [],
   "source": [
    "# Listando os municípios presentes no arquivo.\n",
    "# casos_ce.city.unique()"
   ]
  },
  {
   "cell_type": "code",
   "execution_count": 13,
   "id": "a2c5c551",
   "metadata": {},
   "outputs": [],
   "source": [
    "# Olhando os dados para cidade de Quixadá\n",
    "# casos_ce[(df_ce.city == 'Quixadá')].head()"
   ]
  },
  {
   "cell_type": "code",
   "execution_count": 14,
   "id": "564cd10f",
   "metadata": {
    "scrolled": true
   },
   "outputs": [],
   "source": [
    "# A condição order_for_place == 1 indica o registro mais atual\n",
    "# casos_ce[(casos_ce.city == 'Quixadá') & (casos_ce.order_for_place == 1)].head(10)"
   ]
  },
  {
   "cell_type": "markdown",
   "id": "ab1ad70e",
   "metadata": {},
   "source": [
    "Criando DataFrame com os dados da cidade de Quixadá."
   ]
  },
  {
   "cell_type": "code",
   "execution_count": 117,
   "id": "d9c25814",
   "metadata": {},
   "outputs": [],
   "source": [
    "df_qxda = df_ce[(df_ce.city == 'Quixadá')]"
   ]
  },
  {
   "cell_type": "markdown",
   "id": "688c6569",
   "metadata": {},
   "source": [
    "Selecionando apenas as colunas de data e quantidade de mortes."
   ]
  },
  {
   "cell_type": "code",
   "execution_count": 118,
   "id": "782cf32a",
   "metadata": {},
   "outputs": [],
   "source": [
    "df_plot = df_qxda[['date', 'deaths']].copy()"
   ]
  },
  {
   "cell_type": "code",
   "execution_count": 119,
   "id": "f58dc12c",
   "metadata": {},
   "outputs": [
    {
     "data": {
      "text/html": [
       "<div>\n",
       "<style scoped>\n",
       "    .dataframe tbody tr th:only-of-type {\n",
       "        vertical-align: middle;\n",
       "    }\n",
       "\n",
       "    .dataframe tbody tr th {\n",
       "        vertical-align: top;\n",
       "    }\n",
       "\n",
       "    .dataframe thead th {\n",
       "        text-align: right;\n",
       "    }\n",
       "</style>\n",
       "<table border=\"1\" class=\"dataframe\">\n",
       "  <thead>\n",
       "    <tr style=\"text-align: right;\">\n",
       "      <th></th>\n",
       "      <th>date</th>\n",
       "      <th>deaths</th>\n",
       "    </tr>\n",
       "  </thead>\n",
       "  <tbody>\n",
       "    <tr>\n",
       "      <th>1153383</th>\n",
       "      <td>2021-05-04</td>\n",
       "      <td>134</td>\n",
       "    </tr>\n",
       "    <tr>\n",
       "      <th>1153384</th>\n",
       "      <td>2021-05-03</td>\n",
       "      <td>120</td>\n",
       "    </tr>\n",
       "    <tr>\n",
       "      <th>1153385</th>\n",
       "      <td>2021-05-02</td>\n",
       "      <td>120</td>\n",
       "    </tr>\n",
       "    <tr>\n",
       "      <th>1153386</th>\n",
       "      <td>2021-04-30</td>\n",
       "      <td>119</td>\n",
       "    </tr>\n",
       "    <tr>\n",
       "      <th>1153387</th>\n",
       "      <td>2021-04-29</td>\n",
       "      <td>114</td>\n",
       "    </tr>\n",
       "  </tbody>\n",
       "</table>\n",
       "</div>"
      ],
      "text/plain": [
       "              date  deaths\n",
       "1153383 2021-05-04     134\n",
       "1153384 2021-05-03     120\n",
       "1153385 2021-05-02     120\n",
       "1153386 2021-04-30     119\n",
       "1153387 2021-04-29     114"
      ]
     },
     "execution_count": 119,
     "metadata": {},
     "output_type": "execute_result"
    }
   ],
   "source": [
    "df_plot.head()"
   ]
  },
  {
   "cell_type": "code",
   "execution_count": 120,
   "id": "86968799",
   "metadata": {},
   "outputs": [],
   "source": [
    "df_plot.set_index('date', inplace=True)"
   ]
  },
  {
   "cell_type": "code",
   "execution_count": 121,
   "id": "448edf31",
   "metadata": {},
   "outputs": [
    {
     "data": {
      "text/html": [
       "<div>\n",
       "<style scoped>\n",
       "    .dataframe tbody tr th:only-of-type {\n",
       "        vertical-align: middle;\n",
       "    }\n",
       "\n",
       "    .dataframe tbody tr th {\n",
       "        vertical-align: top;\n",
       "    }\n",
       "\n",
       "    .dataframe thead th {\n",
       "        text-align: right;\n",
       "    }\n",
       "</style>\n",
       "<table border=\"1\" class=\"dataframe\">\n",
       "  <thead>\n",
       "    <tr style=\"text-align: right;\">\n",
       "      <th></th>\n",
       "      <th>deaths</th>\n",
       "    </tr>\n",
       "    <tr>\n",
       "      <th>date</th>\n",
       "      <th></th>\n",
       "    </tr>\n",
       "  </thead>\n",
       "  <tbody>\n",
       "    <tr>\n",
       "      <th>2021-05-04</th>\n",
       "      <td>134</td>\n",
       "    </tr>\n",
       "    <tr>\n",
       "      <th>2021-05-03</th>\n",
       "      <td>120</td>\n",
       "    </tr>\n",
       "    <tr>\n",
       "      <th>2021-05-02</th>\n",
       "      <td>120</td>\n",
       "    </tr>\n",
       "    <tr>\n",
       "      <th>2021-04-30</th>\n",
       "      <td>119</td>\n",
       "    </tr>\n",
       "    <tr>\n",
       "      <th>2021-04-29</th>\n",
       "      <td>114</td>\n",
       "    </tr>\n",
       "  </tbody>\n",
       "</table>\n",
       "</div>"
      ],
      "text/plain": [
       "            deaths\n",
       "date              \n",
       "2021-05-04     134\n",
       "2021-05-03     120\n",
       "2021-05-02     120\n",
       "2021-04-30     119\n",
       "2021-04-29     114"
      ]
     },
     "execution_count": 121,
     "metadata": {},
     "output_type": "execute_result"
    }
   ],
   "source": [
    "df_plot.head()"
   ]
  },
  {
   "cell_type": "code",
   "execution_count": 122,
   "id": "9f2d4673",
   "metadata": {},
   "outputs": [
    {
     "data": {
      "text/html": [
       "<div>\n",
       "<style scoped>\n",
       "    .dataframe tbody tr th:only-of-type {\n",
       "        vertical-align: middle;\n",
       "    }\n",
       "\n",
       "    .dataframe tbody tr th {\n",
       "        vertical-align: top;\n",
       "    }\n",
       "\n",
       "    .dataframe thead th {\n",
       "        text-align: right;\n",
       "    }\n",
       "</style>\n",
       "<table border=\"1\" class=\"dataframe\">\n",
       "  <thead>\n",
       "    <tr style=\"text-align: right;\">\n",
       "      <th></th>\n",
       "      <th>deaths</th>\n",
       "    </tr>\n",
       "    <tr>\n",
       "      <th>date</th>\n",
       "      <th></th>\n",
       "    </tr>\n",
       "  </thead>\n",
       "  <tbody>\n",
       "    <tr>\n",
       "      <th>2020-04-01</th>\n",
       "      <td>0</td>\n",
       "    </tr>\n",
       "    <tr>\n",
       "      <th>2020-03-31</th>\n",
       "      <td>0</td>\n",
       "    </tr>\n",
       "    <tr>\n",
       "      <th>2020-03-30</th>\n",
       "      <td>0</td>\n",
       "    </tr>\n",
       "    <tr>\n",
       "      <th>2020-03-29</th>\n",
       "      <td>0</td>\n",
       "    </tr>\n",
       "    <tr>\n",
       "      <th>2020-03-28</th>\n",
       "      <td>0</td>\n",
       "    </tr>\n",
       "  </tbody>\n",
       "</table>\n",
       "</div>"
      ],
      "text/plain": [
       "            deaths\n",
       "date              \n",
       "2020-04-01       0\n",
       "2020-03-31       0\n",
       "2020-03-30       0\n",
       "2020-03-29       0\n",
       "2020-03-28       0"
      ]
     },
     "execution_count": 122,
     "metadata": {},
     "output_type": "execute_result"
    }
   ],
   "source": [
    "df_plot.sort_index(ascending=False)\n",
    "df_plot.tail()"
   ]
  },
  {
   "cell_type": "code",
   "execution_count": 123,
   "id": "3ddac6b8",
   "metadata": {},
   "outputs": [
    {
     "data": {
      "text/plain": [
       "<AxesSubplot:xlabel='date'>"
      ]
     },
     "execution_count": 123,
     "metadata": {},
     "output_type": "execute_result"
    },
    {
     "data": {
      "image/png": "[encoded data removed]",
      "text/plain": [
       "<Figure size 1080x288 with 1 Axes>"
      ]
     },
     "metadata": {
      "needs_background": "light"
     },
     "output_type": "display_data"
    }
   ],
   "source": [
    "df_plot.plot(figsize=(15,4))"
   ]
  },
  {
   "cell_type": "markdown",
   "id": "574face4",
   "metadata": {},
   "source": [
    "O número de mortes está acumulado, gostaria de ver a quantidade de mortes por dia. Para isto vou criar uma coluna com subtração entre duas datas seguintes.\n",
    "\n",
    "Minha pergunta\n",
    "https://stackoverflow.com/questions/67443317/add-new-column-with-difference-of-two-rows-give-settingwithcopywarning/67443348#67443348\n",
    "\n",
    "Outro exemplo com assign\n",
    "https://stackoverflow.com/questions/12555323/adding-new-column-to-existing-dataframe-in-python-pandas\n"
   ]
  },
  {
   "cell_type": "code",
   "execution_count": 124,
   "id": "d9b0a8f2",
   "metadata": {},
   "outputs": [],
   "source": [
    "df_plot_2 = df_plot['deaths'].shift() - df_plot['deaths'].copy()"
   ]
  },
  {
   "cell_type": "code",
   "execution_count": 125,
   "id": "d9a27a7a",
   "metadata": {
    "scrolled": true
   },
   "outputs": [
    {
     "data": {
      "text/plain": [
       "date\n",
       "2021-05-04     NaN\n",
       "2021-05-03    14.0\n",
       "2021-05-02     0.0\n",
       "2021-04-30     1.0\n",
       "2021-04-29     5.0\n",
       "Name: deaths, dtype: float64"
      ]
     },
     "execution_count": 125,
     "metadata": {},
     "output_type": "execute_result"
    }
   ],
   "source": [
    "df_plot_2.head()"
   ]
  },
  {
   "cell_type": "code",
   "execution_count": 126,
   "id": "df21bef9",
   "metadata": {},
   "outputs": [],
   "source": [
    "# df_plot['deaths_by_day'] = df_plot.deaths.diff()"
   ]
  },
  {
   "cell_type": "code",
   "execution_count": 127,
   "id": "932fcb8a",
   "metadata": {},
   "outputs": [],
   "source": [
    "# df_plot[df_plot['deaths_by_day']>0]['deaths_by_day']"
   ]
  },
  {
   "cell_type": "code",
   "execution_count": 128,
   "id": "46452d50",
   "metadata": {},
   "outputs": [
    {
     "data": {
      "text/html": [
       "<div>\n",
       "<style scoped>\n",
       "    .dataframe tbody tr th:only-of-type {\n",
       "        vertical-align: middle;\n",
       "    }\n",
       "\n",
       "    .dataframe tbody tr th {\n",
       "        vertical-align: top;\n",
       "    }\n",
       "\n",
       "    .dataframe thead th {\n",
       "        text-align: right;\n",
       "    }\n",
       "</style>\n",
       "<table border=\"1\" class=\"dataframe\">\n",
       "  <thead>\n",
       "    <tr style=\"text-align: right;\">\n",
       "      <th></th>\n",
       "      <th>deaths</th>\n",
       "      <th>deaths_by_day</th>\n",
       "    </tr>\n",
       "    <tr>\n",
       "      <th>date</th>\n",
       "      <th></th>\n",
       "      <th></th>\n",
       "    </tr>\n",
       "  </thead>\n",
       "  <tbody>\n",
       "    <tr>\n",
       "      <th>2020-04-01</th>\n",
       "      <td>0</td>\n",
       "      <td>0.0</td>\n",
       "    </tr>\n",
       "    <tr>\n",
       "      <th>2020-03-31</th>\n",
       "      <td>0</td>\n",
       "      <td>0.0</td>\n",
       "    </tr>\n",
       "    <tr>\n",
       "      <th>2020-03-30</th>\n",
       "      <td>0</td>\n",
       "      <td>0.0</td>\n",
       "    </tr>\n",
       "    <tr>\n",
       "      <th>2020-03-29</th>\n",
       "      <td>0</td>\n",
       "      <td>0.0</td>\n",
       "    </tr>\n",
       "    <tr>\n",
       "      <th>2020-03-28</th>\n",
       "      <td>0</td>\n",
       "      <td>0.0</td>\n",
       "    </tr>\n",
       "  </tbody>\n",
       "</table>\n",
       "</div>"
      ],
      "text/plain": [
       "            deaths  deaths_by_day\n",
       "date                             \n",
       "2020-04-01       0            0.0\n",
       "2020-03-31       0            0.0\n",
       "2020-03-30       0            0.0\n",
       "2020-03-29       0            0.0\n",
       "2020-03-28       0            0.0"
      ]
     },
     "execution_count": 128,
     "metadata": {},
     "output_type": "execute_result"
    }
   ],
   "source": [
    "df_plot['deaths_by_day'] = df_plot_2\n",
    "df_plot.tail()"
   ]
  },
  {
   "cell_type": "code",
   "execution_count": null,
   "id": "a6a7ac7f",
   "metadata": {},
   "outputs": [],
   "source": []
  },
  {
   "cell_type": "markdown",
   "id": "a8a70a54",
   "metadata": {},
   "source": [
    "Plotando o número de mortes por dia."
   ]
  },
  {
   "cell_type": "code",
   "execution_count": 129,
   "id": "fad5aef4",
   "metadata": {},
   "outputs": [
    {
     "data": {
      "text/plain": [
       "<AxesSubplot:xlabel='date'>"
      ]
     },
     "execution_count": 129,
     "metadata": {},
     "output_type": "execute_result"
    },
    {
     "data": {
      "image/png": "[encoded data removed]",
      "text/plain": [
       "<Figure size 1080x288 with 1 Axes>"
      ]
     },
     "metadata": {
      "needs_background": "light"
     },
     "output_type": "display_data"
    }
   ],
   "source": [
    "df_plot['deaths_by_day'].plot(figsize=(15,4))"
   ]
  },
  {
   "cell_type": "markdown",
   "id": "711fe2b0",
   "metadata": {},
   "source": [
    "Para quais datas esta acimada média de mortes?"
   ]
  },
  {
   "cell_type": "markdown",
   "id": "2dfcbb66",
   "metadata": {},
   "source": [
    "Para quais datas esta acimada média de mortes?"
   ]
  },
  {
   "cell_type": "code",
   "execution_count": 130,
   "id": "17a4f527",
   "metadata": {},
   "outputs": [
    {
     "data": {
      "text/plain": [
       "0.3471502590673575"
      ]
     },
     "execution_count": 130,
     "metadata": {},
     "output_type": "execute_result"
    }
   ],
   "source": [
    "df_plot['deaths_by_day'].mean()"
   ]
  },
  {
   "cell_type": "code",
   "execution_count": 131,
   "id": "31deddd8",
   "metadata": {},
   "outputs": [],
   "source": [
    "negativos = df_plot[df_plot.deaths_by_day < 0]"
   ]
  },
  {
   "cell_type": "code",
   "execution_count": 132,
   "id": "364db812",
   "metadata": {},
   "outputs": [
    {
     "data": {
      "text/html": [
       "<div>\n",
       "<style scoped>\n",
       "    .dataframe tbody tr th:only-of-type {\n",
       "        vertical-align: middle;\n",
       "    }\n",
       "\n",
       "    .dataframe tbody tr th {\n",
       "        vertical-align: top;\n",
       "    }\n",
       "\n",
       "    .dataframe thead th {\n",
       "        text-align: right;\n",
       "    }\n",
       "</style>\n",
       "<table border=\"1\" class=\"dataframe\">\n",
       "  <thead>\n",
       "    <tr style=\"text-align: right;\">\n",
       "      <th></th>\n",
       "      <th>deaths</th>\n",
       "      <th>deaths_by_day</th>\n",
       "    </tr>\n",
       "    <tr>\n",
       "      <th>date</th>\n",
       "      <th></th>\n",
       "      <th></th>\n",
       "    </tr>\n",
       "  </thead>\n",
       "  <tbody>\n",
       "    <tr>\n",
       "      <th>2021-04-07</th>\n",
       "      <td>105</td>\n",
       "      <td>-1.0</td>\n",
       "    </tr>\n",
       "    <tr>\n",
       "      <th>2021-02-16</th>\n",
       "      <td>92</td>\n",
       "      <td>-4.0</td>\n",
       "    </tr>\n",
       "    <tr>\n",
       "      <th>2020-07-14</th>\n",
       "      <td>59</td>\n",
       "      <td>-1.0</td>\n",
       "    </tr>\n",
       "  </tbody>\n",
       "</table>\n",
       "</div>"
      ],
      "text/plain": [
       "            deaths  deaths_by_day\n",
       "date                             \n",
       "2021-04-07     105           -1.0\n",
       "2021-02-16      92           -4.0\n",
       "2020-07-14      59           -1.0"
      ]
     },
     "execution_count": 132,
     "metadata": {},
     "output_type": "execute_result"
    }
   ],
   "source": [
    "negativos"
   ]
  },
  {
   "cell_type": "markdown",
   "id": "d5cbc57d",
   "metadata": {},
   "source": [
    "Quero ver esses intervalos de dias para averiguar."
   ]
  },
  {
   "cell_type": "code",
   "execution_count": 133,
   "id": "aa36b308",
   "metadata": {},
   "outputs": [
    {
     "data": {
      "text/html": [
       "<div>\n",
       "<style scoped>\n",
       "    .dataframe tbody tr th:only-of-type {\n",
       "        vertical-align: middle;\n",
       "    }\n",
       "\n",
       "    .dataframe tbody tr th {\n",
       "        vertical-align: top;\n",
       "    }\n",
       "\n",
       "    .dataframe thead th {\n",
       "        text-align: right;\n",
       "    }\n",
       "</style>\n",
       "<table border=\"1\" class=\"dataframe\">\n",
       "  <thead>\n",
       "    <tr style=\"text-align: right;\">\n",
       "      <th></th>\n",
       "      <th>deaths</th>\n",
       "      <th>deaths_by_day</th>\n",
       "    </tr>\n",
       "    <tr>\n",
       "      <th>date</th>\n",
       "      <th></th>\n",
       "      <th></th>\n",
       "    </tr>\n",
       "  </thead>\n",
       "  <tbody>\n",
       "    <tr>\n",
       "      <th>2020-07-17</th>\n",
       "      <td>58</td>\n",
       "      <td>0.0</td>\n",
       "    </tr>\n",
       "    <tr>\n",
       "      <th>2020-07-16</th>\n",
       "      <td>58</td>\n",
       "      <td>0.0</td>\n",
       "    </tr>\n",
       "    <tr>\n",
       "      <th>2020-07-15</th>\n",
       "      <td>58</td>\n",
       "      <td>0.0</td>\n",
       "    </tr>\n",
       "    <tr>\n",
       "      <th>2020-07-14</th>\n",
       "      <td>59</td>\n",
       "      <td>-1.0</td>\n",
       "    </tr>\n",
       "    <tr>\n",
       "      <th>2020-07-13</th>\n",
       "      <td>58</td>\n",
       "      <td>1.0</td>\n",
       "    </tr>\n",
       "    <tr>\n",
       "      <th>2020-07-12</th>\n",
       "      <td>58</td>\n",
       "      <td>0.0</td>\n",
       "    </tr>\n",
       "    <tr>\n",
       "      <th>2020-07-11</th>\n",
       "      <td>58</td>\n",
       "      <td>0.0</td>\n",
       "    </tr>\n",
       "    <tr>\n",
       "      <th>2020-07-10</th>\n",
       "      <td>57</td>\n",
       "      <td>1.0</td>\n",
       "    </tr>\n",
       "  </tbody>\n",
       "</table>\n",
       "</div>"
      ],
      "text/plain": [
       "            deaths  deaths_by_day\n",
       "date                             \n",
       "2020-07-17      58            0.0\n",
       "2020-07-16      58            0.0\n",
       "2020-07-15      58            0.0\n",
       "2020-07-14      59           -1.0\n",
       "2020-07-13      58            1.0\n",
       "2020-07-12      58            0.0\n",
       "2020-07-11      58            0.0\n",
       "2020-07-10      57            1.0"
      ]
     },
     "execution_count": 133,
     "metadata": {},
     "output_type": "execute_result"
    }
   ],
   "source": [
    "df_plot[(df_plot.index >= dateutil.parser.parse(\"2020-07-10\")) & (df_plot.index <= dateutil.parser.parse(\"2020-07-18\"))]"
   ]
  },
  {
   "cell_type": "code",
   "execution_count": 134,
   "id": "36feaed1",
   "metadata": {},
   "outputs": [
    {
     "data": {
      "text/html": [
       "<div>\n",
       "<style scoped>\n",
       "    .dataframe tbody tr th:only-of-type {\n",
       "        vertical-align: middle;\n",
       "    }\n",
       "\n",
       "    .dataframe tbody tr th {\n",
       "        vertical-align: top;\n",
       "    }\n",
       "\n",
       "    .dataframe thead th {\n",
       "        text-align: right;\n",
       "    }\n",
       "</style>\n",
       "<table border=\"1\" class=\"dataframe\">\n",
       "  <thead>\n",
       "    <tr style=\"text-align: right;\">\n",
       "      <th></th>\n",
       "      <th>date</th>\n",
       "      <th>state</th>\n",
       "      <th>city</th>\n",
       "      <th>place_type</th>\n",
       "      <th>confirmed</th>\n",
       "      <th>deaths</th>\n",
       "      <th>order_for_place</th>\n",
       "      <th>is_last</th>\n",
       "      <th>estimated_population_2019</th>\n",
       "      <th>estimated_population</th>\n",
       "      <th>city_ibge_code</th>\n",
       "      <th>confirmed_per_100k_inhabitants</th>\n",
       "      <th>death_rate</th>\n",
       "    </tr>\n",
       "  </thead>\n",
       "  <tbody>\n",
       "    <tr>\n",
       "      <th>1153658</th>\n",
       "      <td>2020-07-17</td>\n",
       "      <td>CE</td>\n",
       "      <td>Quixadá</td>\n",
       "      <td>city</td>\n",
       "      <td>2385</td>\n",
       "      <td>58</td>\n",
       "      <td>112</td>\n",
       "      <td>False</td>\n",
       "      <td>87728.0</td>\n",
       "      <td>88321.0</td>\n",
       "      <td>2311306.0</td>\n",
       "      <td>2700.37703</td>\n",
       "      <td>0.0243</td>\n",
       "    </tr>\n",
       "    <tr>\n",
       "      <th>1153659</th>\n",
       "      <td>2020-07-16</td>\n",
       "      <td>CE</td>\n",
       "      <td>Quixadá</td>\n",
       "      <td>city</td>\n",
       "      <td>2384</td>\n",
       "      <td>58</td>\n",
       "      <td>111</td>\n",
       "      <td>False</td>\n",
       "      <td>87728.0</td>\n",
       "      <td>88321.0</td>\n",
       "      <td>2311306.0</td>\n",
       "      <td>2699.24480</td>\n",
       "      <td>0.0243</td>\n",
       "    </tr>\n",
       "    <tr>\n",
       "      <th>1153660</th>\n",
       "      <td>2020-07-15</td>\n",
       "      <td>CE</td>\n",
       "      <td>Quixadá</td>\n",
       "      <td>city</td>\n",
       "      <td>2368</td>\n",
       "      <td>58</td>\n",
       "      <td>110</td>\n",
       "      <td>False</td>\n",
       "      <td>87728.0</td>\n",
       "      <td>88321.0</td>\n",
       "      <td>2311306.0</td>\n",
       "      <td>2681.12906</td>\n",
       "      <td>0.0245</td>\n",
       "    </tr>\n",
       "    <tr>\n",
       "      <th>1153661</th>\n",
       "      <td>2020-07-14</td>\n",
       "      <td>CE</td>\n",
       "      <td>Quixadá</td>\n",
       "      <td>city</td>\n",
       "      <td>2356</td>\n",
       "      <td>59</td>\n",
       "      <td>109</td>\n",
       "      <td>False</td>\n",
       "      <td>87728.0</td>\n",
       "      <td>88321.0</td>\n",
       "      <td>2311306.0</td>\n",
       "      <td>2667.54226</td>\n",
       "      <td>0.0250</td>\n",
       "    </tr>\n",
       "    <tr>\n",
       "      <th>1153662</th>\n",
       "      <td>2020-07-13</td>\n",
       "      <td>CE</td>\n",
       "      <td>Quixadá</td>\n",
       "      <td>city</td>\n",
       "      <td>2348</td>\n",
       "      <td>58</td>\n",
       "      <td>108</td>\n",
       "      <td>False</td>\n",
       "      <td>87728.0</td>\n",
       "      <td>88321.0</td>\n",
       "      <td>2311306.0</td>\n",
       "      <td>2658.48439</td>\n",
       "      <td>0.0247</td>\n",
       "    </tr>\n",
       "    <tr>\n",
       "      <th>1153663</th>\n",
       "      <td>2020-07-12</td>\n",
       "      <td>CE</td>\n",
       "      <td>Quixadá</td>\n",
       "      <td>city</td>\n",
       "      <td>2350</td>\n",
       "      <td>58</td>\n",
       "      <td>107</td>\n",
       "      <td>False</td>\n",
       "      <td>87728.0</td>\n",
       "      <td>88321.0</td>\n",
       "      <td>2311306.0</td>\n",
       "      <td>2660.74886</td>\n",
       "      <td>0.0247</td>\n",
       "    </tr>\n",
       "    <tr>\n",
       "      <th>1153664</th>\n",
       "      <td>2020-07-11</td>\n",
       "      <td>CE</td>\n",
       "      <td>Quixadá</td>\n",
       "      <td>city</td>\n",
       "      <td>2341</td>\n",
       "      <td>58</td>\n",
       "      <td>106</td>\n",
       "      <td>False</td>\n",
       "      <td>87728.0</td>\n",
       "      <td>88321.0</td>\n",
       "      <td>2311306.0</td>\n",
       "      <td>2650.55876</td>\n",
       "      <td>0.0248</td>\n",
       "    </tr>\n",
       "    <tr>\n",
       "      <th>1153665</th>\n",
       "      <td>2020-07-10</td>\n",
       "      <td>CE</td>\n",
       "      <td>Quixadá</td>\n",
       "      <td>city</td>\n",
       "      <td>2324</td>\n",
       "      <td>57</td>\n",
       "      <td>105</td>\n",
       "      <td>False</td>\n",
       "      <td>87728.0</td>\n",
       "      <td>88321.0</td>\n",
       "      <td>2311306.0</td>\n",
       "      <td>2631.31079</td>\n",
       "      <td>0.0245</td>\n",
       "    </tr>\n",
       "  </tbody>\n",
       "</table>\n",
       "</div>"
      ],
      "text/plain": [
       "              date state     city place_type  confirmed  deaths  \\\n",
       "1153658 2020-07-17    CE  Quixadá       city       2385      58   \n",
       "1153659 2020-07-16    CE  Quixadá       city       2384      58   \n",
       "1153660 2020-07-15    CE  Quixadá       city       2368      58   \n",
       "1153661 2020-07-14    CE  Quixadá       city       2356      59   \n",
       "1153662 2020-07-13    CE  Quixadá       city       2348      58   \n",
       "1153663 2020-07-12    CE  Quixadá       city       2350      58   \n",
       "1153664 2020-07-11    CE  Quixadá       city       2341      58   \n",
       "1153665 2020-07-10    CE  Quixadá       city       2324      57   \n",
       "\n",
       "         order_for_place  is_last  estimated_population_2019  \\\n",
       "1153658              112    False                    87728.0   \n",
       "1153659              111    False                    87728.0   \n",
       "1153660              110    False                    87728.0   \n",
       "1153661              109    False                    87728.0   \n",
       "1153662              108    False                    87728.0   \n",
       "1153663              107    False                    87728.0   \n",
       "1153664              106    False                    87728.0   \n",
       "1153665              105    False                    87728.0   \n",
       "\n",
       "         estimated_population  city_ibge_code  confirmed_per_100k_inhabitants  \\\n",
       "1153658               88321.0       2311306.0                      2700.37703   \n",
       "1153659               88321.0       2311306.0                      2699.24480   \n",
       "1153660               88321.0       2311306.0                      2681.12906   \n",
       "1153661               88321.0       2311306.0                      2667.54226   \n",
       "1153662               88321.0       2311306.0                      2658.48439   \n",
       "1153663               88321.0       2311306.0                      2660.74886   \n",
       "1153664               88321.0       2311306.0                      2650.55876   \n",
       "1153665               88321.0       2311306.0                      2631.31079   \n",
       "\n",
       "         death_rate  \n",
       "1153658      0.0243  \n",
       "1153659      0.0243  \n",
       "1153660      0.0245  \n",
       "1153661      0.0250  \n",
       "1153662      0.0247  \n",
       "1153663      0.0247  \n",
       "1153664      0.0248  \n",
       "1153665      0.0245  "
      ]
     },
     "execution_count": 134,
     "metadata": {},
     "output_type": "execute_result"
    }
   ],
   "source": [
    "df_qxda[(df_qxda.date >= dateutil.parser.parse(\"2020-07-10\")) & (df_qxda.date <= dateutil.parser.parse(\"2020-07-18\"))]"
   ]
  },
  {
   "cell_type": "markdown",
   "id": "e6de80bc",
   "metadata": {},
   "source": [
    "Pelo visto nas três data estipuladas alguém retornou dos mortos."
   ]
  },
  {
   "cell_type": "markdown",
   "id": "3e35ff91",
   "metadata": {},
   "source": [
    "Qual a média de mortos desconsiderando os dias sem mortes?"
   ]
  },
  {
   "cell_type": "code",
   "execution_count": 135,
   "id": "d91407fb",
   "metadata": {},
   "outputs": [
    {
     "data": {
      "text/plain": [
       "[17.0, 2.6923076923076925]"
      ]
     },
     "execution_count": 135,
     "metadata": {},
     "output_type": "execute_result"
    }
   ],
   "source": [
    "media_mortos = df_plot[df_plot['deaths_by_day']>0]['deaths_by_day'].mean()\n",
    "mediana_mortos = df_plot[df_plot['deaths_by_day']>0]['deaths_by_day'].median()\n",
    "max_mortos = df_plot[df_plot['deaths_by_day']>0]['deaths_by_day'].max()\n",
    "list([max_mortos, media_mortos])"
   ]
  },
  {
   "cell_type": "code",
   "execution_count": 136,
   "id": "2a2ca39d",
   "metadata": {},
   "outputs": [
    {
     "data": {
      "text/plain": [
       "<matplotlib.legend.Legend at 0x2a0855fbb50>"
      ]
     },
     "execution_count": 136,
     "metadata": {},
     "output_type": "execute_result"
    },
    {
     "data": {
      "image/png": "[encoded data removed]",
      "text/plain": [
       "<Figure size 720x432 with 1 Axes>"
      ]
     },
     "metadata": {
      "needs_background": "light"
     },
     "output_type": "display_data"
    }
   ],
   "source": [
    "import matplotlib.transforms as transforms\n",
    "from datetime import datetime\n",
    "datetime.today().strftime('%Y-%m-%d')\n",
    "\n",
    "mortes_plot = df_plot['deaths_by_day'].plot(figsize=(10,6), label=\"Número de mortes\")\n",
    "\n",
    "mortes_plot.set_title('Mortes por COVID-19 em Quixadá ao longo da pandemia. | '+datetime.today().strftime('%Y-%m-%d'))\n",
    "\n",
    "# Criando as linhas horizontais com a média de mortos e max mortos\n",
    "mortes_plot.axhline(y=media_mortos, xmin=0, xmax=1, color='g', linestyle='--', lw=2, label=\"Média de mortes - {num:.2f}.\".format(num = media_mortos))\n",
    "mortes_plot.axhline(y=max_mortos, xmin=0, xmax=1, color='r', linestyle='--', lw=2, label=\"Máx. de mortes - {num:.2f}.\".format(num = max_mortos))\n",
    "\n",
    "trans = transforms.blended_transform_factory(mortes_plot.get_yticklabels()[0].get_transform(), mortes_plot.transData)\n",
    "mortes_plot.text(0,media_mortos, \"{:0.2f}\".format(media_mortos), color=\"green\", transform=trans, ha=\"right\", va=\"center\")\n",
    "mortes_plot.text(0,max_mortos, \"{:0.2f}\".format(max_mortos), color=\"red\", transform=trans, ha=\"right\", va=\"center\")\n",
    "\n",
    "mortes_plot.set_xlabel('')\n",
    "#mortes_plot.set_ylabel('Example y')\n",
    "mortes_plot.legend()\n"
   ]
  },
  {
   "cell_type": "markdown",
   "id": "d5067139",
   "metadata": {},
   "source": [
    "Quantas dias acima da média de mortos?"
   ]
  },
  {
   "cell_type": "code",
   "execution_count": 137,
   "id": "f9421a9c",
   "metadata": {},
   "outputs": [
    {
     "data": {
      "text/plain": [
       "deaths           16\n",
       "deaths_by_day    16\n",
       "dtype: int64"
      ]
     },
     "execution_count": 137,
     "metadata": {},
     "output_type": "execute_result"
    }
   ],
   "source": [
    "df_plot[df_plot['deaths_by_day']>media_mortos].count()"
   ]
  },
  {
   "cell_type": "markdown",
   "id": "119f1051",
   "metadata": {},
   "source": [
    "## Tentando criar o dashboard"
   ]
  },
  {
   "cell_type": "code",
   "execution_count": 138,
   "id": "fd4348f5",
   "metadata": {},
   "outputs": [],
   "source": [
    "import ipywidgets as widgets"
   ]
  },
  {
   "cell_type": "code",
   "execution_count": 139,
   "id": "64411e31",
   "metadata": {},
   "outputs": [
    {
     "data": {
      "text/html": [
       "<div>\n",
       "<style scoped>\n",
       "    .dataframe tbody tr th:only-of-type {\n",
       "        vertical-align: middle;\n",
       "    }\n",
       "\n",
       "    .dataframe tbody tr th {\n",
       "        vertical-align: top;\n",
       "    }\n",
       "\n",
       "    .dataframe thead th {\n",
       "        text-align: right;\n",
       "    }\n",
       "</style>\n",
       "<table border=\"1\" class=\"dataframe\">\n",
       "  <thead>\n",
       "    <tr style=\"text-align: right;\">\n",
       "      <th></th>\n",
       "      <th>date</th>\n",
       "      <th>state</th>\n",
       "      <th>city</th>\n",
       "      <th>place_type</th>\n",
       "      <th>confirmed</th>\n",
       "      <th>deaths</th>\n",
       "      <th>order_for_place</th>\n",
       "      <th>is_last</th>\n",
       "      <th>estimated_population_2019</th>\n",
       "      <th>estimated_population</th>\n",
       "      <th>city_ibge_code</th>\n",
       "      <th>confirmed_per_100k_inhabitants</th>\n",
       "      <th>death_rate</th>\n",
       "    </tr>\n",
       "  </thead>\n",
       "  <tbody>\n",
       "    <tr>\n",
       "      <th>1099034</th>\n",
       "      <td>2021-05-04</td>\n",
       "      <td>CE</td>\n",
       "      <td>Abaiara</td>\n",
       "      <td>city</td>\n",
       "      <td>407</td>\n",
       "      <td>9</td>\n",
       "      <td>357</td>\n",
       "      <td>True</td>\n",
       "      <td>11737.0</td>\n",
       "      <td>11853.0</td>\n",
       "      <td>2300101.0</td>\n",
       "      <td>3433.72986</td>\n",
       "      <td>0.0221</td>\n",
       "    </tr>\n",
       "    <tr>\n",
       "      <th>1099391</th>\n",
       "      <td>2021-05-04</td>\n",
       "      <td>CE</td>\n",
       "      <td>Acarape</td>\n",
       "      <td>city</td>\n",
       "      <td>2570</td>\n",
       "      <td>24</td>\n",
       "      <td>366</td>\n",
       "      <td>True</td>\n",
       "      <td>14929.0</td>\n",
       "      <td>15036.0</td>\n",
       "      <td>2300150.0</td>\n",
       "      <td>17092.31179</td>\n",
       "      <td>0.0093</td>\n",
       "    </tr>\n",
       "    <tr>\n",
       "      <th>1099757</th>\n",
       "      <td>2021-05-04</td>\n",
       "      <td>CE</td>\n",
       "      <td>Acaraú</td>\n",
       "      <td>city</td>\n",
       "      <td>4338</td>\n",
       "      <td>93</td>\n",
       "      <td>367</td>\n",
       "      <td>True</td>\n",
       "      <td>62641.0</td>\n",
       "      <td>63104.0</td>\n",
       "      <td>2300200.0</td>\n",
       "      <td>6874.36613</td>\n",
       "      <td>0.0214</td>\n",
       "    </tr>\n",
       "    <tr>\n",
       "      <th>1100124</th>\n",
       "      <td>2021-05-04</td>\n",
       "      <td>CE</td>\n",
       "      <td>Acopiara</td>\n",
       "      <td>city</td>\n",
       "      <td>2659</td>\n",
       "      <td>107</td>\n",
       "      <td>371</td>\n",
       "      <td>True</td>\n",
       "      <td>54270.0</td>\n",
       "      <td>54481.0</td>\n",
       "      <td>2300309.0</td>\n",
       "      <td>4880.60058</td>\n",
       "      <td>0.0402</td>\n",
       "    </tr>\n",
       "    <tr>\n",
       "      <th>1100495</th>\n",
       "      <td>2021-05-04</td>\n",
       "      <td>CE</td>\n",
       "      <td>Aiuaba</td>\n",
       "      <td>city</td>\n",
       "      <td>378</td>\n",
       "      <td>9</td>\n",
       "      <td>350</td>\n",
       "      <td>True</td>\n",
       "      <td>17399.0</td>\n",
       "      <td>17493.0</td>\n",
       "      <td>2300408.0</td>\n",
       "      <td>2160.86435</td>\n",
       "      <td>0.0238</td>\n",
       "    </tr>\n",
       "  </tbody>\n",
       "</table>\n",
       "</div>"
      ],
      "text/plain": [
       "              date state      city place_type  confirmed  deaths  \\\n",
       "1099034 2021-05-04    CE   Abaiara       city        407       9   \n",
       "1099391 2021-05-04    CE   Acarape       city       2570      24   \n",
       "1099757 2021-05-04    CE    Acaraú       city       4338      93   \n",
       "1100124 2021-05-04    CE  Acopiara       city       2659     107   \n",
       "1100495 2021-05-04    CE    Aiuaba       city        378       9   \n",
       "\n",
       "         order_for_place  is_last  estimated_population_2019  \\\n",
       "1099034              357     True                    11737.0   \n",
       "1099391              366     True                    14929.0   \n",
       "1099757              367     True                    62641.0   \n",
       "1100124              371     True                    54270.0   \n",
       "1100495              350     True                    17399.0   \n",
       "\n",
       "         estimated_population  city_ibge_code  confirmed_per_100k_inhabitants  \\\n",
       "1099034               11853.0       2300101.0                      3433.72986   \n",
       "1099391               15036.0       2300150.0                     17092.31179   \n",
       "1099757               63104.0       2300200.0                      6874.36613   \n",
       "1100124               54481.0       2300309.0                      4880.60058   \n",
       "1100495               17493.0       2300408.0                      2160.86435   \n",
       "\n",
       "         death_rate  \n",
       "1099034      0.0221  \n",
       "1099391      0.0093  \n",
       "1099757      0.0214  \n",
       "1100124      0.0402  \n",
       "1100495      0.0238  "
      ]
     },
     "execution_count": 139,
     "metadata": {},
     "output_type": "execute_result"
    }
   ],
   "source": [
    "dados_casos = df[(df.state == 'CE') & (df.is_last == True) & (~pd.isnull(df['city']))]\n",
    "dados_casos.head()"
   ]
  },
  {
   "cell_type": "code",
   "execution_count": 140,
   "id": "e386d97e",
   "metadata": {},
   "outputs": [
    {
     "data": {
      "text/plain": [
       "['Abaiara',\n",
       " 'Acarape',\n",
       " 'Acaraú',\n",
       " 'Acopiara',\n",
       " 'Aiuaba',\n",
       " 'Alcântaras',\n",
       " 'Altaneira',\n",
       " 'Alto Santo',\n",
       " 'Amontada',\n",
       " 'Antonina do Norte',\n",
       " 'Apuiarés',\n",
       " 'Aquiraz',\n",
       " 'Aracati',\n",
       " 'Aracoiaba',\n",
       " 'Ararendá',\n",
       " 'Araripe',\n",
       " 'Aratuba',\n",
       " 'Arneiroz',\n",
       " 'Assaré',\n",
       " 'Aurora',\n",
       " 'Baixio',\n",
       " 'Banabuiú',\n",
       " 'Barbalha',\n",
       " 'Barreira',\n",
       " 'Barro',\n",
       " 'Barroquinha',\n",
       " 'Baturité',\n",
       " 'Beberibe',\n",
       " 'Bela Cruz',\n",
       " 'Boa Viagem',\n",
       " 'Brejo Santo',\n",
       " 'Camocim',\n",
       " 'Campos Sales',\n",
       " 'Canindé',\n",
       " 'Capistrano',\n",
       " 'Caridade',\n",
       " 'Caririaçu',\n",
       " 'Cariré',\n",
       " 'Cariús',\n",
       " 'Carnaubal',\n",
       " 'Cascavel',\n",
       " 'Catarina',\n",
       " 'Catunda',\n",
       " 'Caucaia',\n",
       " 'Cedro',\n",
       " 'Chaval',\n",
       " 'Chorozinho',\n",
       " 'Choró',\n",
       " 'Coreaú',\n",
       " 'Crateús',\n",
       " 'Crato',\n",
       " 'Croatá',\n",
       " 'Cruz',\n",
       " 'Deputado Irapuan Pinheiro',\n",
       " 'Ereré',\n",
       " 'Eusébio',\n",
       " 'Farias Brito',\n",
       " 'Forquilha',\n",
       " 'Fortaleza',\n",
       " 'Fortim',\n",
       " 'Frecheirinha',\n",
       " 'General Sampaio',\n",
       " 'Granja',\n",
       " 'Granjeiro',\n",
       " 'Graça',\n",
       " 'Groaíras',\n",
       " 'Guaiúba',\n",
       " 'Guaraciaba do Norte',\n",
       " 'Guaramiranga',\n",
       " 'Hidrolândia',\n",
       " 'Horizonte',\n",
       " 'Ibaretama',\n",
       " 'Ibiapina',\n",
       " 'Ibicuitinga',\n",
       " 'Icapuí',\n",
       " 'Icó',\n",
       " 'Iguatu',\n",
       " 'Importados/Indefinidos',\n",
       " 'Independência',\n",
       " 'Ipaporanga',\n",
       " 'Ipaumirim',\n",
       " 'Ipu',\n",
       " 'Ipueiras',\n",
       " 'Iracema',\n",
       " 'Irauçuba',\n",
       " 'Itaitinga',\n",
       " 'Itaiçaba',\n",
       " 'Itapajé',\n",
       " 'Itapipoca',\n",
       " 'Itapiúna',\n",
       " 'Itarema',\n",
       " 'Itatira',\n",
       " 'Jaguaretama',\n",
       " 'Jaguaribara',\n",
       " 'Jaguaribe',\n",
       " 'Jaguaruana',\n",
       " 'Jardim',\n",
       " 'Jati',\n",
       " 'Jijoca de Jericoacoara',\n",
       " 'Juazeiro do Norte',\n",
       " 'Jucás',\n",
       " 'Lavras da Mangabeira',\n",
       " 'Limoeiro do Norte',\n",
       " 'Madalena',\n",
       " 'Maracanaú',\n",
       " 'Maranguape',\n",
       " 'Marco',\n",
       " 'Martinópole',\n",
       " 'Massapê',\n",
       " 'Mauriti',\n",
       " 'Meruoca',\n",
       " 'Milagres',\n",
       " 'Milhã',\n",
       " 'Miraíma',\n",
       " 'Missão Velha',\n",
       " 'Mombaça',\n",
       " 'Monsenhor Tabosa',\n",
       " 'Morada Nova',\n",
       " 'Moraújo',\n",
       " 'Morrinhos',\n",
       " 'Mucambo',\n",
       " 'Mulungu',\n",
       " 'Nova Olinda',\n",
       " 'Nova Russas',\n",
       " 'Novo Oriente',\n",
       " 'Ocara',\n",
       " 'Orós',\n",
       " 'Pacajus',\n",
       " 'Pacatuba',\n",
       " 'Pacoti',\n",
       " 'Pacujá',\n",
       " 'Palhano',\n",
       " 'Palmácia',\n",
       " 'Paracuru',\n",
       " 'Paraipaba',\n",
       " 'Parambu',\n",
       " 'Paramoti',\n",
       " 'Pedra Branca',\n",
       " 'Penaforte',\n",
       " 'Pentecoste',\n",
       " 'Pereiro',\n",
       " 'Pindoretama',\n",
       " 'Piquet Carneiro',\n",
       " 'Pires Ferreira',\n",
       " 'Poranga',\n",
       " 'Porteiras',\n",
       " 'Potengi',\n",
       " 'Potiretama',\n",
       " 'Quiterianópolis',\n",
       " 'Quixadá',\n",
       " 'Quixelô',\n",
       " 'Quixeramobim',\n",
       " 'Quixeré',\n",
       " 'Redenção',\n",
       " 'Reriutaba',\n",
       " 'Russas',\n",
       " 'Saboeiro',\n",
       " 'Salitre',\n",
       " 'Santa Quitéria',\n",
       " 'Santana do Acaraú',\n",
       " 'Santana do Cariri',\n",
       " 'Senador Pompeu',\n",
       " 'Senador Sá',\n",
       " 'Sobral',\n",
       " 'Solonópole',\n",
       " 'São Benedito',\n",
       " 'São Gonçalo do Amarante',\n",
       " 'São João do Jaguaribe',\n",
       " 'São Luís do Curu',\n",
       " 'Tabuleiro do Norte',\n",
       " 'Tamboril',\n",
       " 'Tarrafas',\n",
       " 'Tauá',\n",
       " 'Tejuçuoca',\n",
       " 'Tianguá',\n",
       " 'Trairi',\n",
       " 'Tururu',\n",
       " 'Ubajara',\n",
       " 'Umari',\n",
       " 'Umirim',\n",
       " 'Uruburetama',\n",
       " 'Uruoca',\n",
       " 'Varjota',\n",
       " 'Viçosa do Ceará',\n",
       " 'Várzea Alegre']"
      ]
     },
     "execution_count": 140,
     "metadata": {},
     "output_type": "execute_result"
    }
   ],
   "source": [
    "cidades_lista = df[(df.state == 'CE') & (df.is_last == True) & (~pd.isnull(df['city']))]['city'].tolist()\n",
    "(cidades_lista)\n",
    "\n"
   ]
  },
  {
   "cell_type": "code",
   "execution_count": 141,
   "id": "6adc7e75",
   "metadata": {},
   "outputs": [],
   "source": [
    "cidade = widgets.Dropdown(\n",
    "    options=list(cidades_lista),\n",
    "    value='Quixadá', #indicates default starting value\n",
    "    description='Cidade:', #this is the label for the dropdown\n",
    ")\n",
    "# dados_casos[dados_casos.city == 'Quixadá']"
   ]
  },
  {
   "cell_type": "code",
   "execution_count": 142,
   "id": "1b2cfabc",
   "metadata": {},
   "outputs": [],
   "source": [
    "def update_df_length(cidade):\n",
    "    \n",
    "    #df = pd.read_csv('SF_crimes.csv')\n",
    "    df2 = dados_casos[dados_casos.city == cidade]\n",
    "    \n",
    "    print(\"Number of rows in the dataset that have been successfully loaded:\"+str(df2.iloc[0]['confirmed']))"
   ]
  },
  {
   "cell_type": "code",
   "execution_count": 143,
   "id": "6bae1733",
   "metadata": {},
   "outputs": [
    {
     "data": {
      "application/vnd.jupyter.widget-view+json": {
       "model_id": "149509c0173442cd997689f78952c79c",
       "version_major": 2,
       "version_minor": 0
      },
      "text/plain": [
       "interactive(children=(Dropdown(description='Cidade:', index=149, options=('Abaiara', 'Acarape', 'Acaraú', 'Aco…"
      ]
     },
     "metadata": {},
     "output_type": "display_data"
    }
   ],
   "source": [
    "widgets.interactive(update_df_length, cidade=cidade)"
   ]
  },
  {
   "cell_type": "markdown",
   "id": "896520c7",
   "metadata": {},
   "source": [
    "## Tentando criar os plots"
   ]
  },
  {
   "cell_type": "markdown",
   "id": "ed66fad4",
   "metadata": {},
   "source": [
    "Pra criar o plot é preciso as colunas de data, cidade e casos confirmados."
   ]
  },
  {
   "cell_type": "code",
   "execution_count": 144,
   "id": "6e03ef8e",
   "metadata": {},
   "outputs": [
    {
     "data": {
      "text/html": [
       "<div>\n",
       "<style scoped>\n",
       "    .dataframe tbody tr th:only-of-type {\n",
       "        vertical-align: middle;\n",
       "    }\n",
       "\n",
       "    .dataframe tbody tr th {\n",
       "        vertical-align: top;\n",
       "    }\n",
       "\n",
       "    .dataframe thead th {\n",
       "        text-align: right;\n",
       "    }\n",
       "</style>\n",
       "<table border=\"1\" class=\"dataframe\">\n",
       "  <thead>\n",
       "    <tr style=\"text-align: right;\">\n",
       "      <th></th>\n",
       "      <th>date</th>\n",
       "      <th>city</th>\n",
       "      <th>confirmed</th>\n",
       "      <th>deaths</th>\n",
       "    </tr>\n",
       "  </thead>\n",
       "  <tbody>\n",
       "    <tr>\n",
       "      <th>1099034</th>\n",
       "      <td>2021-05-04</td>\n",
       "      <td>Abaiara</td>\n",
       "      <td>407</td>\n",
       "      <td>9</td>\n",
       "    </tr>\n",
       "    <tr>\n",
       "      <th>1099035</th>\n",
       "      <td>2021-05-03</td>\n",
       "      <td>Abaiara</td>\n",
       "      <td>399</td>\n",
       "      <td>9</td>\n",
       "    </tr>\n",
       "    <tr>\n",
       "      <th>1099036</th>\n",
       "      <td>2021-05-02</td>\n",
       "      <td>Abaiara</td>\n",
       "      <td>390</td>\n",
       "      <td>9</td>\n",
       "    </tr>\n",
       "    <tr>\n",
       "      <th>1099037</th>\n",
       "      <td>2021-04-30</td>\n",
       "      <td>Abaiara</td>\n",
       "      <td>384</td>\n",
       "      <td>9</td>\n",
       "    </tr>\n",
       "    <tr>\n",
       "      <th>1099038</th>\n",
       "      <td>2021-04-29</td>\n",
       "      <td>Abaiara</td>\n",
       "      <td>380</td>\n",
       "      <td>8</td>\n",
       "    </tr>\n",
       "  </tbody>\n",
       "</table>\n",
       "</div>"
      ],
      "text/plain": [
       "              date     city  confirmed  deaths\n",
       "1099034 2021-05-04  Abaiara        407       9\n",
       "1099035 2021-05-03  Abaiara        399       9\n",
       "1099036 2021-05-02  Abaiara        390       9\n",
       "1099037 2021-04-30  Abaiara        384       9\n",
       "1099038 2021-04-29  Abaiara        380       8"
      ]
     },
     "execution_count": 144,
     "metadata": {},
     "output_type": "execute_result"
    }
   ],
   "source": [
    "casos_plot = df[(df.state == 'CE') & (~pd.isnull(df['city']))][['date', 'city', 'confirmed','deaths']]\n",
    "casos_plot.head()"
   ]
  },
  {
   "cell_type": "code",
   "execution_count": 145,
   "id": "def524ea",
   "metadata": {},
   "outputs": [],
   "source": [
    "cidade = widgets.Dropdown(\n",
    "    options=list(cidades_lista),\n",
    "    value='Quixadá', #indicates default starting value\n",
    "    description='Cidade:', #this is the label for the dropdown\n",
    ")"
   ]
  },
  {
   "cell_type": "code",
   "execution_count": 146,
   "id": "0a9ed390",
   "metadata": {},
   "outputs": [
    {
     "data": {
      "text/html": [
       "<div>\n",
       "<style scoped>\n",
       "    .dataframe tbody tr th:only-of-type {\n",
       "        vertical-align: middle;\n",
       "    }\n",
       "\n",
       "    .dataframe tbody tr th {\n",
       "        vertical-align: top;\n",
       "    }\n",
       "\n",
       "    .dataframe thead th {\n",
       "        text-align: right;\n",
       "    }\n",
       "</style>\n",
       "<table border=\"1\" class=\"dataframe\">\n",
       "  <thead>\n",
       "    <tr style=\"text-align: right;\">\n",
       "      <th></th>\n",
       "      <th>date</th>\n",
       "      <th>deaths</th>\n",
       "    </tr>\n",
       "  </thead>\n",
       "  <tbody>\n",
       "    <tr>\n",
       "      <th>1153383</th>\n",
       "      <td>2021-05-04</td>\n",
       "      <td>134</td>\n",
       "    </tr>\n",
       "    <tr>\n",
       "      <th>1153384</th>\n",
       "      <td>2021-05-03</td>\n",
       "      <td>120</td>\n",
       "    </tr>\n",
       "    <tr>\n",
       "      <th>1153385</th>\n",
       "      <td>2021-05-02</td>\n",
       "      <td>120</td>\n",
       "    </tr>\n",
       "    <tr>\n",
       "      <th>1153386</th>\n",
       "      <td>2021-04-30</td>\n",
       "      <td>119</td>\n",
       "    </tr>\n",
       "    <tr>\n",
       "      <th>1153387</th>\n",
       "      <td>2021-04-29</td>\n",
       "      <td>114</td>\n",
       "    </tr>\n",
       "    <tr>\n",
       "      <th>...</th>\n",
       "      <td>...</td>\n",
       "      <td>...</td>\n",
       "    </tr>\n",
       "    <tr>\n",
       "      <th>1153765</th>\n",
       "      <td>2020-04-01</td>\n",
       "      <td>0</td>\n",
       "    </tr>\n",
       "    <tr>\n",
       "      <th>1153766</th>\n",
       "      <td>2020-03-31</td>\n",
       "      <td>0</td>\n",
       "    </tr>\n",
       "    <tr>\n",
       "      <th>1153767</th>\n",
       "      <td>2020-03-30</td>\n",
       "      <td>0</td>\n",
       "    </tr>\n",
       "    <tr>\n",
       "      <th>1153768</th>\n",
       "      <td>2020-03-29</td>\n",
       "      <td>0</td>\n",
       "    </tr>\n",
       "    <tr>\n",
       "      <th>1153769</th>\n",
       "      <td>2020-03-28</td>\n",
       "      <td>0</td>\n",
       "    </tr>\n",
       "  </tbody>\n",
       "</table>\n",
       "<p>387 rows × 2 columns</p>\n",
       "</div>"
      ],
      "text/plain": [
       "              date  deaths\n",
       "1153383 2021-05-04     134\n",
       "1153384 2021-05-03     120\n",
       "1153385 2021-05-02     120\n",
       "1153386 2021-04-30     119\n",
       "1153387 2021-04-29     114\n",
       "...            ...     ...\n",
       "1153765 2020-04-01       0\n",
       "1153766 2020-03-31       0\n",
       "1153767 2020-03-30       0\n",
       "1153768 2020-03-29       0\n",
       "1153769 2020-03-28       0\n",
       "\n",
       "[387 rows x 2 columns]"
      ]
     },
     "execution_count": 146,
     "metadata": {},
     "output_type": "execute_result"
    }
   ],
   "source": [
    "df3 = casos_plot[casos_plot.city == 'Quixadá'][['date','deaths']]\n",
    "df3"
   ]
  },
  {
   "cell_type": "code",
   "execution_count": 147,
   "id": "193371bf",
   "metadata": {},
   "outputs": [],
   "source": [
    "def update_grafico(cidade):\n",
    "    \n",
    "    df3 = casos_plot[casos_plot.city == cidade][['date','deaths']]\n",
    "    df3.set_index('date', inplace=True)\n",
    "    df3.plot(figsize=(15,4))\n",
    "    #df = pd.read_csv('SF_crimes.csv')\n",
    "    #df3 = dados_casos[casos_plot.city == cidade]\n",
    "    #df3['confirmed'].plot(figsize=(15,4))\n",
    "    #df_plot.set_index('date', inplace=True)\n",
    "    \n",
    "    #print(\"Number of rows in the dataset that have been successfully loaded:\"+str(df2.iloc[0]['confirmed']))"
   ]
  },
  {
   "cell_type": "code",
   "execution_count": 148,
   "id": "fb9a78a4",
   "metadata": {},
   "outputs": [
    {
     "data": {
      "application/vnd.jupyter.widget-view+json": {
       "model_id": "c488975d8a4245be82a61b755859c593",
       "version_major": 2,
       "version_minor": 0
      },
      "text/plain": [
       "interactive(children=(Dropdown(description='Cidade:', index=149, options=('Abaiara', 'Acarape', 'Acaraú', 'Aco…"
      ]
     },
     "metadata": {},
     "output_type": "display_data"
    }
   ],
   "source": [
    "widgets.interactive(update_grafico, cidade=cidade)"
   ]
  },
  {
   "cell_type": "markdown",
   "id": "84d13c3b",
   "metadata": {},
   "source": [
    "Adicionar um comparativo de duas cidade seria bom."
   ]
  }
 ],
 "metadata": {
  "kernelspec": {
   "display_name": "Python 3",
   "language": "python",
   "name": "python3"
  },
  "language_info": {
   "codemirror_mode": {
    "name": "ipython",
    "version": 3
   },
   "file_extension": ".py",
   "mimetype": "text/x-python",
   "name": "python",
   "nbconvert_exporter": "python",
   "pygments_lexer": "ipython3",
   "version": "3.9.1"
  }
 },
 "nbformat": 4,
 "nbformat_minor": 5
}
