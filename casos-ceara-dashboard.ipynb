{
 "cells": [
  {
   "cell_type": "markdown",
   "id": "c24cb075",
   "metadata": {},
   "source": [
    "# Painel COVID-19 Ceará"
   ]
  },
  {
   "cell_type": "markdown",
   "id": "0a39a51a",
   "metadata": {},
   "source": [
    "Analisando os dados de COVID-19 na cidade de Quixadá-CE."
   ]
  },
  {
   "cell_type": "code",
   "execution_count": 1,
   "id": "f0246a72",
   "metadata": {},
   "outputs": [],
   "source": [
    "# Imports\n",
    "import pandas as pd\n",
    "import numpy as np\n",
    "import matplotlib.pyplot as plt\n",
    "import dateutil.parser"
   ]
  },
  {
   "cell_type": "code",
   "execution_count": 2,
   "id": "140a1592",
   "metadata": {},
   "outputs": [],
   "source": [
    "# Carregando os dados do Ceará no novo dataframe\n",
    "casos_ce = pd.read_csv('casos_ce.csv')"
   ]
  },
  {
   "cell_type": "code",
   "execution_count": 3,
   "id": "f0a7ad3b",
   "metadata": {},
   "outputs": [],
   "source": [
    "# Fazendo cast da coluna date para data\n",
    "casos_ce['date'] = pd.to_datetime(casos_ce['date'])"
   ]
  },
  {
   "cell_type": "code",
   "execution_count": 4,
   "id": "edd179d9",
   "metadata": {},
   "outputs": [],
   "source": [
    "# Olhando o dataframe\n",
    "# casos_ce.info()"
   ]
  },
  {
   "cell_type": "code",
   "execution_count": 5,
   "id": "c29e9d13",
   "metadata": {},
   "outputs": [],
   "source": [
    "# Olhando o conteúdo do dataframe\n",
    "# casos_ce.head()"
   ]
  },
  {
   "cell_type": "code",
   "execution_count": 6,
   "id": "db4403a7",
   "metadata": {},
   "outputs": [],
   "source": [
    "# Olhando as cidades não nulas\n",
    "# casos_ce[df_ce.city.notna()].head()"
   ]
  },
  {
   "cell_type": "code",
   "execution_count": 7,
   "id": "97f4d159",
   "metadata": {},
   "outputs": [],
   "source": [
    "# Quantidade de cidades únicas\n",
    "# casos_ce.city.nunique()"
   ]
  },
  {
   "cell_type": "code",
   "execution_count": 8,
   "id": "33317482",
   "metadata": {
    "scrolled": true
   },
   "outputs": [],
   "source": [
    "# Listando os municípios presentes no arquivo.\n",
    "# casos_ce.city.unique()"
   ]
  },
  {
   "cell_type": "code",
   "execution_count": 9,
   "id": "a2c5c551",
   "metadata": {},
   "outputs": [],
   "source": [
    "# Olhando os dados para cidade de Quixadá\n",
    "# casos_ce[(casos_ce.city == 'Abaiara')].head()"
   ]
  },
  {
   "cell_type": "code",
   "execution_count": 10,
   "id": "564cd10f",
   "metadata": {
    "scrolled": true
   },
   "outputs": [],
   "source": [
    "# A condição order_for_place == 1 indica o registro mais atual\n",
    "# casos_ce[(casos_ce.city == 'Quixadá') & (casos_ce.order_for_place == 1)].head(10)"
   ]
  },
  {
   "cell_type": "code",
   "execution_count": 11,
   "id": "11e1cfc1",
   "metadata": {},
   "outputs": [],
   "source": [
    "# Retirando as colunas que não serão necessárias.\n",
    "casos_ce.drop(columns=['state', \n",
    "                       'place_type',\n",
    "                       'confirmed',\n",
    "                       'order_for_place',\n",
    "                       'is_last',\n",
    "                       'estimated_population_2019',\n",
    "                       'estimated_population',\n",
    "                       'city_ibge_code',\n",
    "                       'confirmed_per_100k_inhabitants',\n",
    "                       'death_rate'], inplace=True)"
   ]
  },
  {
   "cell_type": "code",
   "execution_count": 12,
   "id": "2ec03020",
   "metadata": {},
   "outputs": [],
   "source": [
    "# Retirando as linhas que tenham city = nan\n",
    "casos_ce.dropna(subset = [\"city\"], inplace=True)"
   ]
  },
  {
   "cell_type": "code",
   "execution_count": 13,
   "id": "782cf32a",
   "metadata": {},
   "outputs": [],
   "source": [
    "#casos_ce.head()"
   ]
  },
  {
   "cell_type": "code",
   "execution_count": 14,
   "id": "86968799",
   "metadata": {},
   "outputs": [],
   "source": [
    "casos_ce.set_index('date', inplace=True)"
   ]
  },
  {
   "cell_type": "code",
   "execution_count": 15,
   "id": "d4f0d3cb",
   "metadata": {},
   "outputs": [
    {
     "data": {
      "text/html": [
       "<div>\n",
       "<style scoped>\n",
       "    .dataframe tbody tr th:only-of-type {\n",
       "        vertical-align: middle;\n",
       "    }\n",
       "\n",
       "    .dataframe tbody tr th {\n",
       "        vertical-align: top;\n",
       "    }\n",
       "\n",
       "    .dataframe thead th {\n",
       "        text-align: right;\n",
       "    }\n",
       "</style>\n",
       "<table border=\"1\" class=\"dataframe\">\n",
       "  <thead>\n",
       "    <tr style=\"text-align: right;\">\n",
       "      <th></th>\n",
       "      <th>city</th>\n",
       "      <th>deaths</th>\n",
       "    </tr>\n",
       "    <tr>\n",
       "      <th>date</th>\n",
       "      <th></th>\n",
       "      <th></th>\n",
       "    </tr>\n",
       "  </thead>\n",
       "  <tbody>\n",
       "    <tr>\n",
       "      <th>2020-03-16</th>\n",
       "      <td>Aquiraz</td>\n",
       "      <td>0</td>\n",
       "    </tr>\n",
       "    <tr>\n",
       "      <th>2020-03-16</th>\n",
       "      <td>Fortaleza</td>\n",
       "      <td>0</td>\n",
       "    </tr>\n",
       "    <tr>\n",
       "      <th>2020-03-17</th>\n",
       "      <td>Aquiraz</td>\n",
       "      <td>0</td>\n",
       "    </tr>\n",
       "    <tr>\n",
       "      <th>2020-03-17</th>\n",
       "      <td>Fortaleza</td>\n",
       "      <td>0</td>\n",
       "    </tr>\n",
       "    <tr>\n",
       "      <th>2020-03-18</th>\n",
       "      <td>Aquiraz</td>\n",
       "      <td>0</td>\n",
       "    </tr>\n",
       "    <tr>\n",
       "      <th>...</th>\n",
       "      <td>...</td>\n",
       "      <td>...</td>\n",
       "    </tr>\n",
       "    <tr>\n",
       "      <th>2021-05-06</th>\n",
       "      <td>Caucaia</td>\n",
       "      <td>719</td>\n",
       "    </tr>\n",
       "    <tr>\n",
       "      <th>2021-05-06</th>\n",
       "      <td>Morrinhos</td>\n",
       "      <td>21</td>\n",
       "    </tr>\n",
       "    <tr>\n",
       "      <th>2021-05-06</th>\n",
       "      <td>Amontada</td>\n",
       "      <td>40</td>\n",
       "    </tr>\n",
       "    <tr>\n",
       "      <th>2021-05-06</th>\n",
       "      <td>Ereré</td>\n",
       "      <td>10</td>\n",
       "    </tr>\n",
       "    <tr>\n",
       "      <th>2021-05-06</th>\n",
       "      <td>Abaiara</td>\n",
       "      <td>9</td>\n",
       "    </tr>\n",
       "  </tbody>\n",
       "</table>\n",
       "<p>67871 rows × 2 columns</p>\n",
       "</div>"
      ],
      "text/plain": [
       "                 city  deaths\n",
       "date                         \n",
       "2020-03-16    Aquiraz       0\n",
       "2020-03-16  Fortaleza       0\n",
       "2020-03-17    Aquiraz       0\n",
       "2020-03-17  Fortaleza       0\n",
       "2020-03-18    Aquiraz       0\n",
       "...               ...     ...\n",
       "2021-05-06    Caucaia     719\n",
       "2021-05-06  Morrinhos      21\n",
       "2021-05-06   Amontada      40\n",
       "2021-05-06      Ereré      10\n",
       "2021-05-06    Abaiara       9\n",
       "\n",
       "[67871 rows x 2 columns]"
      ]
     },
     "execution_count": 15,
     "metadata": {},
     "output_type": "execute_result"
    }
   ],
   "source": [
    "casos_ce.sort_index()"
   ]
  },
  {
   "cell_type": "code",
   "execution_count": 17,
   "id": "ad006cee",
   "metadata": {},
   "outputs": [],
   "source": [
    "# Dashboard"
   ]
  },
  {
   "cell_type": "code",
   "execution_count": 18,
   "id": "e386d97e",
   "metadata": {},
   "outputs": [],
   "source": [
    "# Criando a lista de cidades que irão pro combo\n",
    "cidades_lista = casos_ce['city'].unique().tolist()\n",
    "# cidades_lista"
   ]
  },
  {
   "cell_type": "code",
   "execution_count": 19,
   "id": "fd4348f5",
   "metadata": {},
   "outputs": [],
   "source": [
    "# Importa uma série de widgets, select, dropdown etc.\n",
    "import ipywidgets as widgets"
   ]
  },
  {
   "cell_type": "code",
   "execution_count": 20,
   "id": "6adc7e75",
   "metadata": {},
   "outputs": [],
   "source": [
    "# Widget com o nome das cidades.\n",
    "# A cidade escolhida será guardada na variável cidade.\n",
    "cidade = widgets.Dropdown(\n",
    "    options=list(cidades_lista),\n",
    "    value='Quixadá', #indicates default starting value\n",
    "    description='Cidade:', #this is the label for the dropdown\n",
    ")\n",
    "# dados_casos[dados_casos.city == 'Quixadá']"
   ]
  },
  {
   "cell_type": "code",
   "execution_count": 21,
   "id": "193371bf",
   "metadata": {},
   "outputs": [],
   "source": [
    "def update_grafico(cidade):\n",
    "    \n",
    "    df3 = casos_ce[casos_ce.city == cidade][['deaths']]\n",
    "    #df3.set_index('date', inplace=True)\n",
    "    df3.plot(figsize=(15,4))\n",
    "    #df = pd.read_csv('SF_crimes.csv')\n",
    "    #df3 = dados_casos[casos_plot.city == cidade]\n",
    "    #df3['confirmed'].plot(figsize=(15,4))\n",
    "    #df_plot.set_index('date', inplace=True)\n",
    "    \n",
    "    #print(\"Number of rows in the dataset that have been successfully loaded:\"+str(df2.iloc[0]['confirmed']))"
   ]
  },
  {
   "cell_type": "code",
   "execution_count": 22,
   "id": "fb9a78a4",
   "metadata": {},
   "outputs": [
    {
     "data": {
      "application/vnd.jupyter.widget-view+json": {
       "model_id": "0a3c2092717943d1bad5cea57e19410d",
       "version_major": 2,
       "version_minor": 0
      },
      "text/plain": [
       "interactive(children=(Dropdown(description='Cidade:', index=149, options=('Abaiara', 'Acarape', 'Acaraú', 'Aco…"
      ]
     },
     "metadata": {},
     "output_type": "display_data"
    }
   ],
   "source": [
    "widgets.interactive(update_grafico, cidade=cidade)"
   ]
  },
  {
   "cell_type": "code",
   "execution_count": null,
   "id": "47dd33b7",
   "metadata": {},
   "outputs": [],
   "source": []
  }
 ],
 "metadata": {
  "kernelspec": {
   "display_name": "Python 3",
   "language": "python",
   "name": "python3"
  },
  "language_info": {
   "codemirror_mode": {
    "name": "ipython",
    "version": 3
   },
   "file_extension": ".py",
   "mimetype": "text/x-python",
   "name": "python",
   "nbconvert_exporter": "python",
   "pygments_lexer": "ipython3",
   "version": "3.9.1"
  }
 },
 "nbformat": 4,
 "nbformat_minor": 5
}
